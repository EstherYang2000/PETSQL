{
 "cells": [
  {
   "cell_type": "code",
   "execution_count": 24,
   "metadata": {},
   "outputs": [],
   "source": [
    "import json\n",
    "import matplotlib.pyplot as plt\n",
    "import pandas as pd\n",
    "import plotly.express as px\n",
    "import plotly.io as pio\n",
    "pio.renderers.default = \"browser\"  # Opens the plot in a web browser\n",
    "\n"
   ]
  },
  {
   "cell_type": "code",
   "execution_count": 15,
   "metadata": {},
   "outputs": [],
   "source": [
    "file_path = '/home/yyj/Desktop/yyj/thesis/code/PETSQL/data/process/PPL_DEV.JSON-9_SHOT_Euclidean_mask_1034_1/results.json'"
   ]
  },
  {
   "cell_type": "code",
   "execution_count": 18,
   "metadata": {},
   "outputs": [],
   "source": [
    "\n",
    "# 讀取 JSON 檔案\n",
    "with open(file_path, \"r\", encoding=\"utf-8\") as f:\n",
    "    data = json.load(f)"
   ]
  },
  {
   "cell_type": "code",
   "execution_count": 25,
   "metadata": {},
   "outputs": [],
   "source": [
    "# 初始化 DataFrame\n",
    "records = []\n",
    "\n",
    "for entry in data:\n",
    "    index = entry[\"index\"]\n",
    "    weights = entry[\"current_weights\"]\n",
    "    for model, weight in weights.items():\n",
    "        records.append({\"index\": index, \"model\": model, \"weight\": weight})\n",
    "\n",
    "df = pd.DataFrame(records)\n",
    "\n",
    "# 確保數據格式正確\n",
    "df_pivot = df.pivot(index=\"index\", columns=\"model\", values=\"weight\").reset_index()\n",
    "\n",
    "# 這裡修改 value_name，避免與原始欄位名稱衝突\n",
    "df_melted = df.pivot(index=\"index\", columns=\"model\", values=\"weight\").reset_index().melt(\n",
    "    id_vars=[\"index\"], var_name=\"model\", value_name=\"weight_value\"\n",
    ")\n",
    "\n",
    "# 使用 Plotly 繪製可互動的折線圖\n",
    "fig = px.line(\n",
    "    df_melted,\n",
    "    x=\"index\",\n",
    "    y=\"weight_value\",\n",
    "    color=\"model\",\n",
    "    markers=True,\n",
    "    title=\"Dynamic Trend of Model Weights\"\n",
    ")\n",
    "\n",
    "fig.update_layout(\n",
    "    xaxis_title=\"Index\",\n",
    "    yaxis_title=\"Weight\",\n",
    "    hovermode=\"x unified\",\n",
    "    template=\"plotly_dark\"\n",
    ")\n",
    "\n",
    "# 顯示互動式圖表\n",
    "fig.show()"
   ]
  },
  {
   "cell_type": "code",
   "execution_count": 22,
   "metadata": {},
   "outputs": [
    {
     "name": "stdout",
     "output_type": "stream",
     "text": [
      "Requirement already satisfied: nbformat in /home/yyj/Desktop/yyj/thesis/code/PETSQL/venv/lib/python3.10/site-packages (5.10.4)\n",
      "Requirement already satisfied: traitlets>=5.1 in /home/yyj/Desktop/yyj/thesis/code/PETSQL/venv/lib/python3.10/site-packages (from nbformat) (5.14.3)\n",
      "Requirement already satisfied: jsonschema>=2.6 in /home/yyj/Desktop/yyj/thesis/code/PETSQL/venv/lib/python3.10/site-packages (from nbformat) (4.23.0)\n",
      "Requirement already satisfied: jupyter-core!=5.0.*,>=4.12 in /home/yyj/Desktop/yyj/thesis/code/PETSQL/venv/lib/python3.10/site-packages (from nbformat) (5.7.2)\n",
      "Requirement already satisfied: fastjsonschema>=2.15 in /home/yyj/Desktop/yyj/thesis/code/PETSQL/venv/lib/python3.10/site-packages (from nbformat) (2.21.1)\n",
      "Requirement already satisfied: referencing>=0.28.4 in /home/yyj/Desktop/yyj/thesis/code/PETSQL/venv/lib/python3.10/site-packages (from jsonschema>=2.6->nbformat) (0.36.2)\n",
      "Requirement already satisfied: jsonschema-specifications>=2023.03.6 in /home/yyj/Desktop/yyj/thesis/code/PETSQL/venv/lib/python3.10/site-packages (from jsonschema>=2.6->nbformat) (2024.10.1)\n",
      "Requirement already satisfied: attrs>=22.2.0 in /home/yyj/Desktop/yyj/thesis/code/PETSQL/venv/lib/python3.10/site-packages (from jsonschema>=2.6->nbformat) (24.2.0)\n",
      "Requirement already satisfied: rpds-py>=0.7.1 in /home/yyj/Desktop/yyj/thesis/code/PETSQL/venv/lib/python3.10/site-packages (from jsonschema>=2.6->nbformat) (0.22.3)\n",
      "Requirement already satisfied: platformdirs>=2.5 in /home/yyj/Desktop/yyj/thesis/code/PETSQL/venv/lib/python3.10/site-packages (from jupyter-core!=5.0.*,>=4.12->nbformat) (4.3.6)\n",
      "Requirement already satisfied: typing-extensions>=4.4.0 in /home/yyj/Desktop/yyj/thesis/code/PETSQL/venv/lib/python3.10/site-packages (from referencing>=0.28.4->jsonschema>=2.6->nbformat) (4.12.2)\n",
      "\u001b[33mWARNING: There was an error checking the latest version of pip.\u001b[0m\u001b[33m\n",
      "\u001b[0m"
     ]
    }
   ],
   "source": [
    "!pip install --upgrade nbformat\n"
   ]
  }
 ],
 "metadata": {
  "kernelspec": {
   "display_name": "venv",
   "language": "python",
   "name": "python3"
  },
  "language_info": {
   "codemirror_mode": {
    "name": "ipython",
    "version": 3
   },
   "file_extension": ".py",
   "mimetype": "text/x-python",
   "name": "python",
   "nbconvert_exporter": "python",
   "pygments_lexer": "ipython3",
   "version": "3.10.15"
  }
 },
 "nbformat": 4,
 "nbformat_minor": 2
}
